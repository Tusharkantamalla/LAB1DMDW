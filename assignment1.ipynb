{
  "nbformat": 4,
  "nbformat_minor": 0,
  "metadata": {
    "colab": {
      "name": "Untitled1.ipynb",
      "provenance": [],
      "authorship_tag": "ABX9TyO1qFRbGBA7cmm+FBFFR/eH",
      "include_colab_link": true
    },
    "kernelspec": {
      "name": "python3",
      "display_name": "Python 3"
    }
  },
  "cells": [
    {
      "cell_type": "markdown",
      "metadata": {
        "id": "view-in-github",
        "colab_type": "text"
      },
      "source": [
        "<a href=\"https://colab.research.google.com/github/Tusharkantamalla/LAB1DMDW/blob/main/assignment1.ipynb\" target=\"_parent\"><img src=\"https://colab.research.google.com/assets/colab-badge.svg\" alt=\"Open In Colab\"/></a>"
      ]
    },
    {
      "cell_type": "code",
      "metadata": {
        "colab": {
          "base_uri": "https://localhost:8080/"
        },
        "id": "EOfRGGOfeQEB",
        "outputId": "0cb2da86-79d0-4570-eded-a907a69eda14"
      },
      "source": [
        "from collections import Counter\n",
        "data=[float(i) for i in input().split()]\n",
        "n=len(data)\n",
        "mean=sum(data)/n\n",
        "print(\"Mean = \",mean)\n",
        "#calculation of median\n",
        "temp=data.copy()\n",
        "temp=sorted(temp)\n",
        "if n%2!=0:\n",
        "  print(\"Median = \",temp[n//2])\n",
        "else:\n",
        "  median=(temp[n//2]+temp[n//2+1])/2\n",
        "  print(\"Median = \",median)\n",
        "#calculation of mode\n",
        "cnt=Counter(data)\n",
        "maxi=max(cnt.items(),key= lambda x:x[1])[1]\n",
        "print(maxi)\n",
        "mode=[]\n",
        "for each in cnt.items():\n",
        "  if each[1]==maxi:\n",
        "    mode.append(each[0])\n",
        "    print(\"each[0] = \",each[0])\n",
        "if len(mode)==n:\n",
        "  print(\"Not found\")\n",
        "else:\n",
        "  print(\"Mode = \",mode)"
      ],
      "execution_count": 2,
      "outputs": [
        {
          "output_type": "stream",
          "text": [
            "5 6 7 8 9 12 23 43 21 13 34\n",
            "Mean =  16.454545454545453\n",
            "Median =  12.0\n",
            "1\n",
            "each[0] =  5.0\n",
            "each[0] =  6.0\n",
            "each[0] =  7.0\n",
            "each[0] =  8.0\n",
            "each[0] =  9.0\n",
            "each[0] =  12.0\n",
            "each[0] =  23.0\n",
            "each[0] =  43.0\n",
            "each[0] =  21.0\n",
            "each[0] =  13.0\n",
            "each[0] =  34.0\n",
            "Not found\n"
          ],
          "name": "stdout"
        }
      ]
    },
    {
      "cell_type": "code",
      "metadata": {
        "colab": {
          "base_uri": "https://localhost:8080/"
        },
        "id": "qLfhW7dEfAJd",
        "outputId": "c39cd0e0-a795-4a77-8e7d-287e7d881f3e"
      },
      "source": [
        "#calculation of variance\n",
        "data=[float(i) for i in input().split()]\n",
        "n=len(data)\n",
        "mean=sum(data)/n\n",
        "sum1=0\n",
        "for e in data:\n",
        "  sum1+=(e-mean)**2\n",
        "variance=sum1/n\n",
        "print('Variance = ',variance)\n",
        "#calculation of standard deviation\n",
        "std=variance**(0.5)\n",
        "print(\"Standard Deviation = \",std)"
      ],
      "execution_count": 3,
      "outputs": [
        {
          "output_type": "stream",
          "text": [
            "12 14 15 23\n",
            "Variance =  17.5\n",
            "Standard Deviation =  4.183300132670378\n"
          ],
          "name": "stdout"
        }
      ]
    },
    {
      "cell_type": "code",
      "metadata": {
        "colab": {
          "base_uri": "https://localhost:8080/"
        },
        "id": "JoClMdHefIaX",
        "outputId": "56bbf117-bb7d-44f6-c28f-c7d6d61a07a7"
      },
      "source": [
        "#program to check a string is pallindrome or not\n",
        "s=input()\n",
        "if (s==s[::-1]):\n",
        "  print('YES')\n",
        "else:\n",
        "  print('NO')"
      ],
      "execution_count": 4,
      "outputs": [
        {
          "output_type": "stream",
          "text": [
            "tushar\n",
            "NO\n"
          ],
          "name": "stdout"
        }
      ]
    },
    {
      "cell_type": "code",
      "metadata": {
        "id": "OSXAL8b_fTT1"
      },
      "source": [
        ""
      ],
      "execution_count": null,
      "outputs": []
    }
  ]
}